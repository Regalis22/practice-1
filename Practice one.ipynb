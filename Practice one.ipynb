{
 "cells": [
  {
   "cell_type": "code",
   "execution_count": 1,
   "id": "50095504",
   "metadata": {},
   "outputs": [
    {
     "name": "stdout",
     "output_type": "stream",
     "text": [
      "Ashish Verma\n"
     ]
    }
   ],
   "source": [
    "print(\"Ashish Verma\")"
   ]
  },
  {
   "cell_type": "code",
   "execution_count": 2,
   "id": "78136cc7",
   "metadata": {},
   "outputs": [
    {
     "name": "stdout",
     "output_type": "stream",
     "text": [
      "Ashish \n",
      "Verma\n"
     ]
    }
   ],
   "source": [
    "print(\"Ashish \\nVerma\")"
   ]
  },
  {
   "cell_type": "code",
   "execution_count": 4,
   "id": "6832461e",
   "metadata": {},
   "outputs": [
    {
     "data": {
      "text/plain": [
       "366"
      ]
     },
     "execution_count": 4,
     "metadata": {},
     "output_type": "execute_result"
    }
   ],
   "source": [
    "122*3\n"
   ]
  },
  {
   "cell_type": "code",
   "execution_count": 5,
   "id": "640267d7",
   "metadata": {},
   "outputs": [
    {
     "data": {
      "text/plain": [
       "'122122122'"
      ]
     },
     "execution_count": 5,
     "metadata": {},
     "output_type": "execute_result"
    }
   ],
   "source": [
    "\"122\"*3"
   ]
  },
  {
   "cell_type": "code",
   "execution_count": 6,
   "id": "6ed79e38",
   "metadata": {},
   "outputs": [
    {
     "data": {
      "text/plain": [
       "str"
      ]
     },
     "execution_count": 6,
     "metadata": {},
     "output_type": "execute_result"
    }
   ],
   "source": [
    "type(\"3456gvdcf\"*6)"
   ]
  },
  {
   "cell_type": "code",
   "execution_count": 7,
   "id": "686e3026",
   "metadata": {},
   "outputs": [
    {
     "name": "stdout",
     "output_type": "stream",
     "text": [
      "OilAnalytics\n"
     ]
    }
   ],
   "source": [
    "print(\"Oil\"+\"Analytics\")"
   ]
  },
  {
   "cell_type": "code",
   "execution_count": 8,
   "id": "acda0268",
   "metadata": {},
   "outputs": [
    {
     "data": {
      "text/plain": [
       "7"
      ]
     },
     "execution_count": 8,
     "metadata": {},
     "output_type": "execute_result"
    }
   ],
   "source": [
    "125647%72"
   ]
  },
  {
   "cell_type": "code",
   "execution_count": null,
   "id": "ea41385c",
   "metadata": {},
   "outputs": [],
   "source": []
  }
 ],
 "metadata": {
  "kernelspec": {
   "display_name": "Python 3 (ipykernel)",
   "language": "python",
   "name": "python3"
  },
  "language_info": {
   "codemirror_mode": {
    "name": "ipython",
    "version": 3
   },
   "file_extension": ".py",
   "mimetype": "text/x-python",
   "name": "python",
   "nbconvert_exporter": "python",
   "pygments_lexer": "ipython3",
   "version": "3.10.9"
  }
 },
 "nbformat": 4,
 "nbformat_minor": 5
}
